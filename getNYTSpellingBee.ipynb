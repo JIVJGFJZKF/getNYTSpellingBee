{
 "cells": [
  {
   "cell_type": "code",
   "execution_count": 1,
   "metadata": {},
   "outputs": [],
   "source": [
    "#import nltk\n",
    "#nltk.download('words')"
   ]
  },
  {
   "cell_type": "code",
   "execution_count": 2,
   "metadata": {},
   "outputs": [
    {
     "name": "stdout",
     "output_type": "stream",
     "text": [
      "CPU times: user 1.3 s, sys: 453 ms, total: 1.75 s\n",
      "Wall time: 7.36 s\n"
     ]
    }
   ],
   "source": [
    "%%time\n",
    "from nltk.corpus import words\n",
    "import pandas as pd"
   ]
  },
  {
   "cell_type": "markdown",
   "metadata": {},
   "source": [
    "# Setup Functions"
   ]
  },
  {
   "cell_type": "code",
   "execution_count": 3,
   "metadata": {},
   "outputs": [
    {
     "name": "stdout",
     "output_type": "stream",
     "text": [
      "CPU times: user 185 ms, sys: 23.2 ms, total: 208 ms\n",
      "Wall time: 218 ms\n"
     ]
    }
   ],
   "source": [
    "%%time\n",
    "listWords = words.words()\n",
    "dfWords = pd.DataFrame({'Words':listWords})\n",
    "dfWords['LCW'] = dfWords['Words'].str.lower()\n",
    "\n",
    "def getWords(letterRequired, letterOptional):\n",
    "#    tmp1 = dfWords[dfWords['LCW'].str.match(r'^(['+letterRequired+'+])(['+letterRequired+letterOptional+']*)$',case=False)]\n",
    "    tmp1 = dfWords[dfWords['LCW'].str.match(r'^['+letterRequired+letterOptional+']*$',case=False)]\n",
    "    tmp2 = tmp1[tmp1['LCW'].str.match(r'.*'+letterRequired+'+.*',case=False)]\n",
    "    tmpResults = sorted(list(set(tmp2['LCW'].tolist())))\n",
    "    return(tmpResults)"
   ]
  },
  {
   "cell_type": "markdown",
   "metadata": {},
   "source": [
    "# Testing"
   ]
  },
  {
   "cell_type": "markdown",
   "metadata": {},
   "source": [
    "<div style=\"width: 300px;\">![Info](Puzzle01.jpg)</div>"
   ]
  },
  {
   "cell_type": "code",
   "execution_count": 4,
   "metadata": {},
   "outputs": [
    {
     "name": "stdout",
     "output_type": "stream",
     "text": [
      "['bifoil', 'bifold', 'bilbo', 'bilin', 'bilio', 'bill', 'billfold', 'billion', 'billon', 'bilo', 'blind', 'blindfold', 'blo', 'blob', 'blood', 'bloodfin', 'boil', 'bold', 'boldo', 'boll', 'bolo', 'bool', 'dildo', 'dill', 'dilli', 'dilo', 'diobol', 'diol', 'doblon', 'dol', 'doli', 'doll', 'dool', 'dooli', 'fill', 'filo', 'flo', 'flob', 'flood', 'foil', 'fold', 'folio', 'fool', 'idol', 'ill', 'indoloid', 'infill', 'inflood', 'infold', 'iodol', 'l', 'li', 'libidibi', 'libido', 'lid', 'lif', 'lifo', 'liin', 'lill', 'lin', 'lindo', 'linin', 'linn', 'lino', 'linolin', 'linon', 'lion', 'lo', 'lob', 'lobo', 'lod', 'lof', 'loin', 'loll', 'lolo', 'loo', 'lood', 'loof', 'loon', 'nil', 'noil', 'noll', 'nolo', 'nonillion', 'obol', 'oil', 'old', 'olid', 'olio', 'olof']\n",
      "CPU times: user 194 ms, sys: 5.89 ms, total: 200 ms\n",
      "Wall time: 197 ms\n"
     ]
    }
   ],
   "source": [
    "#2018-07-18\n",
    "%time print(getWords('l','bnifod'))"
   ]
  },
  {
   "cell_type": "code",
   "execution_count": 5,
   "metadata": {},
   "outputs": [
    {
     "name": "stdout",
     "output_type": "stream",
     "text": [
      "['acate', 'ace', 'acetal', 'acetate', 'acetyl', 'acetylate', 'acle', 'actaea', 'actaeaceae', 'acylate', 'ae', 'alate', 'alcae', 'ale', 'alea', 'alec', 'alee', 'alette', 'alle', 'allele', 'alley', 'allylate', 'ate', 'atle', 'atlee', 'attalea', 'aye', 'aylet', 'azalea', 'azelate', 'aztec', 'azteca', 'cactaceae', 'caeca', 'caecal', 'caecally', 'callet', 'calycate', 'calycle', 'catalecta', 'catalyte', 'catalyze', 'cate', 'catella', 'cateye', 'cattle', 'cattleya', 'ce', 'cee', 'cell', 'cella', 'cellae', 'celt', 'cetacea', 'cete', 'cetyl', 'clayey', 'cleat', 'clee', 'cycle', 'e', 'ea', 'eat', 'ecca', 'eclat', 'ectal', 'ectally', 'eel', 'eely', 'el', 'elate', 'elect', 'electee', 'electly', 'ell', 'ella', 'elle', 'elt', 'eta', 'etta', 'ettle', 'ey', 'eyalet', 'eye', 'eyelet', 'eyey', 'lace', 'lacet', 'lactate', 'lacteal', 'laet', 'late', 'lately', 'layette', 'laze', 'lea', 'leal', 'leally', 'lealty', 'leat', 'lee', 'leet', 'let', 'lete', 'lett', 'letty', 'ley', 'lyceal', 'lye', 'taccaceae', 'tae', 'tael', 'tale', 'tallet', 'tate', 'tattle', 'tattletale', 'te', 'tea', 'teaey', 'teal', 'teat', 'teaty', 'teaze', 'tec', 'teca', 'tecla', 'tectal', 'tee', 'teel', 'teet', 'teety', 'tele', 'tell', 'tellee', 'tellt', 'telltale', 'telltalely', 'telt', 'tete', 'tetel', 'tez', 'tye', 'tyee', 'yale', 'yate', 'ye', 'yea', 'yeat', 'yee', 'yeel', 'yell', 'yelt', 'yet', 'yeta', 'yez', 'yezzy', 'zacate', 'zacatec', 'zea', 'zeal', 'zee', 'zel', 'zeta']\n",
      "CPU times: user 176 ms, sys: 3.36 ms, total: 180 ms\n",
      "Wall time: 177 ms\n"
     ]
    }
   ],
   "source": [
    "#2018-07-19\n",
    "%time print(getWords('e','lcaytz'))"
   ]
  },
  {
   "cell_type": "markdown",
   "metadata": {},
   "source": [
    "# Additional Testing"
   ]
  },
  {
   "cell_type": "code",
   "execution_count": 6,
   "metadata": {},
   "outputs": [
    {
     "name": "stdout",
     "output_type": "stream",
     "text": [
      "['aam', 'acamar', 'acoma', 'acroama', 'am', 'ama', 'amar', 'amara', 'amma', 'amman', 'ammo', 'ammono', 'amor', 'amra', 'anam', 'anama', 'annam', 'arm', 'armor', 'aroma', 'caam', 'caama', 'cacam', 'cam', 'camaca', 'camacan', 'caman', 'camara', 'camorra', 'canamo', 'canman', 'carman', 'carom', 'cocama', 'cocamama', 'coma', 'coman', 'comma', 'common', 'coom', 'coram', 'corm', 'cormac', 'cram', 'crom', 'cromorna', 'm', 'ma', 'maam', 'mac', 'macaca', 'macaco', 'macan', 'macana', 'macao', 'macaroon', 'macco', 'maco', 'macon', 'macro', 'macron', 'mam', 'mamma', 'mammon', 'mamo', 'man', 'mana', 'mancono', 'mann', 'manna', 'mannan', 'mano', 'manoc', 'manor', 'mao', 'maomao', 'mar', 'mara', 'maraca', 'maracan', 'marara', 'marc', 'marcan', 'marco', 'marcor', 'marm', 'marmar', 'maro', 'maroon', 'marrano', 'marron', 'mo', 'moan', 'mocoa', 'mocoan', 'mocomoco', 'momo', 'mon', 'mona', 'monacan', 'mono', 'moo', 'moon', 'moonman', 'moor', 'moorman', 'moorn', 'mor', 'mora', 'moran', 'mormaor', 'mormo', 'mormon', 'morn', 'moro', 'moroc', 'moroccan', 'morocco', 'moron', 'mr', 'naam', 'naaman', 'nam', 'nama', 'narcoma', 'noam', 'noma', 'nomocanon', 'noncom', 'norm', 'norma', 'norman', 'oam', 'oarman', 'om', 'oman', 'omao', 'omar', 'oromo', 'ram', 'rama', 'raman', 'ramanan', 'ramarama', 'ramon', 'ramona', 'roam', 'roman', 'room']\n",
      "CPU times: user 189 ms, sys: 5.85 ms, total: 195 ms\n",
      "Wall time: 191 ms\n",
      "\n",
      "\n",
      "['aam', 'abama', 'am', 'ama', 'amah', 'amba', 'amma', 'baham', 'bahama', 'bam', 'hakam', 'ham', 'hammam', 'jam', 'jama', 'jamb', 'kamba', 'm', 'ma', 'maam', 'mab', 'maba', 'mah', 'maha', 'maja', 'makah', 'mam', 'mamba', 'mamma']\n",
      "CPU times: user 165 ms, sys: 511 µs, total: 165 ms\n",
      "Wall time: 165 ms\n",
      "\n",
      "\n",
      "['acacia', 'acacian', 'acaciin', 'acacin', 'acamar', 'acana', 'acara', 'acari', 'acarian', 'acarina', 'acca', 'acclaim', 'acclinal', 'acinar', 'acinic', 'aclinal', 'aclinic', 'acmic', 'acrania', 'acranial', 'alamannic', 'alaric', 'alca', 'alcaic', 'alcanna', 'alicia', 'almanac', 'amacrinal', 'amalrician', 'amic', 'amical', 'aminic', 'amniac', 'amnic', 'anacara', 'anaclinal', 'ancilla', 'anilic', 'animalic', 'araca', 'aracana', 'aracari', 'aramaic', 'arc', 'arca', 'arcana', 'arcanal', 'arician', 'arnica', 'arracacia', 'c', 'ca', 'caam', 'caama', 'caca', 'cacalia', 'cacam', 'cacan', 'cacana', 'cacara', 'caimacam', 'caiman', 'cain', 'cainian', 'cairn', 'cal', 'calamarian', 'calcar', 'calcic', 'call', 'calla', 'calli', 'calm', 'cam', 'camaca', 'camacan', 'camail', 'caman', 'camara', 'camarilla', 'camilla', 'can', 'cana', 'canaan', 'canal', 'canalman', 'canari', 'canarian', 'canarin', 'cancan', 'cancri', 'caninal', 'canman', 'canna', 'car', 'cara', 'caracal', 'caracara', 'caranna', 'carara', 'cariama', 'carian', 'carica', 'carina', 'carinal', 'carinaria', 'cariniana', 'cariri', 'caririan', 'carl', 'carlin', 'carlina', 'carman', 'carminic', 'carnacian', 'carnal', 'carnaria', 'carnic', 'carr', 'carrara', 'carraran', 'cicala', 'cilia', 'cilician', 'cincinnal', 'cinnamal', 'cinnamic', 'circa', 'circinal', 'cirri', 'claim', 'clallam', 'clam', 'clan', 'clara', 'clarain', 'clarin', 'clima', 'clinal', 'clinamina', 'clinia', 'clinic', 'clinical', 'clinician', 'cnicin', 'cracca', 'crain', 'cram', 'cran', 'crania', 'cranial', 'cranian', 'cranic', 'cric', 'criminal', 'crin', 'crinal', 'icaria', 'icarian', 'icica', 'iliac', 'ilicic', 'ilicin', 'imamic', 'inca', 'incaic', 'incan', 'incarial', 'incarn', 'inimical', 'iranic', 'lac', 'lacca', 'laccaic', 'laccainic', 'lacinaria', 'lacinia', 'laic', 'laical', 'lamaic', 'licania', 'licca', 'licinian', 'lilac', 'lilacin', 'limacina', 'mac', 'macaca', 'macan', 'macana', 'macarani', 'maiacca', 'malacca', 'malaccan', 'malacia', 'malic', 'maniac', 'maniacal', 'manic', 'manicaria', 'maraca', 'maracan', 'marc', 'marcan', 'marci', 'marcia', 'marianic', 'mica', 'micmac', 'mimic', 'mimical', 'minicam', 'mirac', 'naric', 'narica', 'niacin', 'nici', 'racial', 'ric', 'riccia', 'ricin', 'ricinic', 'ricininic', 'ricrac']\n",
      "CPU times: user 184 ms, sys: 1.97 ms, total: 186 ms\n",
      "Wall time: 188 ms\n",
      "\n",
      "\n"
     ]
    }
   ],
   "source": [
    "#M Required\n",
    "#C,O,A,R,N options\n",
    "%time print(getWords('m','COARN'))\n",
    "\n",
    "print('\\n')\n",
    "\n",
    "#Made-up Test#2\n",
    "%time print(getWords('m','abhjk'))\n",
    "\n",
    "print('\\n')\n",
    "\n",
    "%time print(getWords('c','ranmil'))\n",
    "\n",
    "print('\\n')"
   ]
  },
  {
   "cell_type": "code",
   "execution_count": null,
   "metadata": {},
   "outputs": [],
   "source": []
  }
 ],
 "metadata": {
  "kernelspec": {
   "display_name": "Python 3",
   "language": "python",
   "name": "python3"
  },
  "language_info": {
   "codemirror_mode": {
    "name": "ipython",
    "version": 3
   },
   "file_extension": ".py",
   "mimetype": "text/x-python",
   "name": "python",
   "nbconvert_exporter": "python",
   "pygments_lexer": "ipython3",
   "version": "3.6.5"
  }
 },
 "nbformat": 4,
 "nbformat_minor": 2
}
